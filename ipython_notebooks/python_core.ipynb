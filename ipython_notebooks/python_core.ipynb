{
 "cells": [
  {
   "attachments": {},
   "cell_type": "markdown",
   "metadata": {},
   "source": [
    "# Fibonacci Series"
   ]
  },
  {
   "cell_type": "code",
   "execution_count": 32,
   "metadata": {},
   "outputs": [],
   "source": [
    "# my solution\n",
    "def generate_fibonacci_series(how_many: int) -> list:\n",
    "    fib_no, next_fib_no = 0, 1\n",
    "    series = []\n",
    "    for _ in range(how_many):\n",
    "        series.append(fib_no)\n",
    "        sum_ = fib_no + next_fib_no\n",
    "        fib_no, next_fib_no = next_fib_no, sum_\n",
    "    return series\n",
    "\n",
    "_ = generate_fibonacci_series(35)"
   ]
  },
  {
   "cell_type": "code",
   "execution_count": 33,
   "metadata": {},
   "outputs": [],
   "source": [
    "# solution from internet - recursive technic - very complex  # takes a lot of time when complexity increases\n",
    "def feb(n): # 3\n",
    "    if n == 0: \n",
    "        return 0\n",
    "    elif n == 1: \n",
    "        return 1\n",
    "    else: \n",
    "        return feb(n-1)+feb(n-2)  # 2 +\n",
    "\n",
    "_ = [feb(i) for i in range(35)]"
   ]
  },
  {
   "attachments": {},
   "cell_type": "markdown",
   "metadata": {},
   "source": [
    "# Amstrong Number"
   ]
  },
  {
   "cell_type": "code",
   "execution_count": 44,
   "metadata": {},
   "outputs": [
    {
     "data": {
      "text/plain": [
       "[0, 1, 2, 3, 4, 5, 6, 7, 8, 9, 153, 370, 371, 407, 1634]"
      ]
     },
     "execution_count": 44,
     "metadata": {},
     "output_type": "execute_result"
    }
   ],
   "source": [
    "n = 153 # example \n",
    "\n",
    "def is_amstrong_number(n):\n",
    "    str_n = str(n)\n",
    "    n_digits = len(str_n)\n",
    "    return n == sum([int(i)**n_digits for i in str_n])\n",
    "\n",
    "[n for n in range(2000) if is_amstrong_number(n)]"
   ]
  },
  {
   "cell_type": "code",
   "execution_count": 46,
   "metadata": {},
   "outputs": [
    {
     "data": {
      "text/plain": [
       "[0, 1, 2, 3, 4, 5, 6, 7, 8, 9, 153, 370, 371, 407, 1634]"
      ]
     },
     "execution_count": 46,
     "metadata": {},
     "output_type": "execute_result"
    }
   ],
   "source": [
    "list(filter(is_amstrong_number, range(2000)))"
   ]
  },
  {
   "attachments": {},
   "cell_type": "markdown",
   "metadata": {},
   "source": [
    "# Prime Number"
   ]
  },
  {
   "cell_type": "code",
   "execution_count": 50,
   "metadata": {},
   "outputs": [
    {
     "data": {
      "text/plain": [
       "[2, 3, 5, 7, 11, 13, 17, 19]"
      ]
     },
     "execution_count": 50,
     "metadata": {},
     "output_type": "execute_result"
    }
   ],
   "source": [
    "def is_prime(n):\n",
    "    if n < 2:\n",
    "        return False\n",
    "\n",
    "    for i in range(2, n):\n",
    "        if n % i == 0:\n",
    "            return False\n",
    "    else:\n",
    "        return True\n",
    "n = 20\n",
    "list(filter(is_prime, range(2, n)))"
   ]
  },
  {
   "attachments": {},
   "cell_type": "markdown",
   "metadata": {},
   "source": [
    "# Factorial"
   ]
  },
  {
   "attachments": {},
   "cell_type": "markdown",
   "metadata": {},
   "source": [
    "The factorial of a number is the product of all the integers from 1 to that number."
   ]
  },
  {
   "cell_type": "code",
   "execution_count": 58,
   "metadata": {},
   "outputs": [
    {
     "data": {
      "text/plain": [
       "120"
      ]
     },
     "execution_count": 58,
     "metadata": {},
     "output_type": "execute_result"
    }
   ],
   "source": [
    "def get_factorial(n):\n",
    "\n",
    "    if n < 0:\n",
    "        raise ValueError(\"There are no factorical for negative nber\")\n",
    "    elif n in [0, 1]:\n",
    "        return 1 # factorical of 0, 1 is 1\n",
    "    else:\n",
    "        factorial = 1\n",
    "        for i in range(1, n + 1):\n",
    "            factorial *= i\n",
    "            \n",
    "        return factorial\n",
    "\n",
    "\n",
    "n = 5\n",
    "get_factorial(n)"
   ]
  },
  {
   "attachments": {},
   "cell_type": "markdown",
   "metadata": {},
   "source": [
    "# Median"
   ]
  },
  {
   "cell_type": "code",
   "execution_count": 71,
   "metadata": {},
   "outputs": [
    {
     "data": {
      "text/plain": [
       "5"
      ]
     },
     "execution_count": 71,
     "metadata": {},
     "output_type": "execute_result"
    }
   ],
   "source": [
    "data = [5, 1, 8, 3, 2, 9, 4, 7, 6]\n",
    "\n",
    "sorted_data = sorted(data)  # [1, 2, 3, 4, 5, 6, 7, 8, 9]\n",
    "length = len(sorted_data)\n",
    "\n",
    "if length % 2 == 0:\n",
    "    mid_idx = length // 2\n",
    "    median = (sorted_data[mid_idx - 1] + sorted_data[mid_idx]) / 2\n",
    "else:\n",
    "    mid_idx = length // 2\n",
    "    median = sorted_data[mid_idx]\n",
    "\n",
    "median"
   ]
  },
  {
   "cell_type": "code",
   "execution_count": 70,
   "metadata": {},
   "outputs": [
    {
     "data": {
      "text/plain": [
       "4"
      ]
     },
     "execution_count": 70,
     "metadata": {},
     "output_type": "execute_result"
    }
   ],
   "source": [
    "length // 2"
   ]
  },
  {
   "cell_type": "code",
   "execution_count": 60,
   "metadata": {},
   "outputs": [
    {
     "data": {
      "text/plain": [
       "[1, 2, 3, 4, 5, 6, 7, 8, 9]"
      ]
     },
     "execution_count": 60,
     "metadata": {},
     "output_type": "execute_result"
    }
   ],
   "source": [
    "sorted(data)"
   ]
  },
  {
   "attachments": {},
   "cell_type": "markdown",
   "metadata": {},
   "source": [
    "<img src=\"/home/ezetap/Documents/personal/works/interviews/assets/images/variance.png\" alt=\"Alternative text\" />"
   ]
  },
  {
   "cell_type": "code",
   "execution_count": 69,
   "metadata": {},
   "outputs": [
    {
     "data": {
      "text/plain": [
       "(5.0, 6.666666666666667, 2.581988897471611)"
      ]
     },
     "execution_count": 69,
     "metadata": {},
     "output_type": "execute_result"
    }
   ],
   "source": [
    "n = len(data)\n",
    "mean = sum(data) / n  # mean\n",
    "\n",
    "variance = sum([(x-mean)**2 for x in data]) / n\n",
    "std = variance ** 0.5\n",
    "mean, variance, std"
   ]
  },
  {
   "cell_type": "code",
   "execution_count": null,
   "metadata": {},
   "outputs": [],
   "source": []
  }
 ],
 "metadata": {
  "kernelspec": {
   "display_name": "interviews-cHlQfc8P-py3.8",
   "language": "python",
   "name": "python3"
  },
  "language_info": {
   "codemirror_mode": {
    "name": "ipython",
    "version": 3
   },
   "file_extension": ".py",
   "mimetype": "text/x-python",
   "name": "python",
   "nbconvert_exporter": "python",
   "pygments_lexer": "ipython3",
   "version": "3.8.10"
  },
  "orig_nbformat": 4
 },
 "nbformat": 4,
 "nbformat_minor": 2
}
